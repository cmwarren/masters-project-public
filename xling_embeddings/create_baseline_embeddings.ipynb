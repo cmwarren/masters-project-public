{
 "cells": [
  {
   "cell_type": "markdown",
   "metadata": {},
   "source": [
    "Re-write the steps in Levy's create_embeddings.sh in Python, so that we can create a sample of multiple randomly seeded embeddings and analyse the distribution of results."
   ]
  },
  {
   "cell_type": "code",
   "execution_count": null,
   "metadata": {
    "collapsed": true
   },
   "outputs": [],
   "source": [
    "# -*- coding: utf-8 -*-\n",
    "from hyperwords import multi2mono as m2m"
   ]
  },
  {
   "cell_type": "code",
   "execution_count": null,
   "metadata": {
    "collapsed": true
   },
   "outputs": [],
   "source": [
    "%run ./create_embeddings_lib.ipynb"
   ]
  },
  {
   "cell_type": "code",
   "execution_count": null,
   "metadata": {
    "collapsed": true
   },
   "outputs": [],
   "source": [
    "N=1  # Number of test samples to create\n",
    "\n",
    "# Default file paths\n",
    "training_corpus = 'bible'\n",
    "path = './' + training_corpus + '/'\n",
    "pairs_path = path + 'pairs'\n",
    "counts_path = path + 'counts'\n",
    "counts_contexts_path = path + 'counts.contexts.vocab'\n",
    "counts_words_path = path + 'counts.words.vocab'\n",
    "sgns_dir = 'sgns_temp'\n",
    "sgns_path = path + sgns_dir + '/'"
   ]
  },
  {
   "cell_type": "markdown",
   "metadata": {},
   "source": [
    "NB: We don't need to re-run the next three blocks every time - this is part of initialising the training set"
   ]
  },
  {
   "cell_type": "code",
   "execution_count": null,
   "metadata": {
    "collapsed": true
   },
   "outputs": [],
   "source": [
    "#[path, pairs_path] = create_pairs(path)"
   ]
  },
  {
   "cell_type": "code",
   "execution_count": null,
   "metadata": {
    "collapsed": true
   },
   "outputs": [],
   "source": [
    "#counts_path = create_counts(path, pairs_path)"
   ]
  },
  {
   "cell_type": "code",
   "execution_count": null,
   "metadata": {
    "collapsed": true
   },
   "outputs": [],
   "source": [
    "#c2v.counts2vocab(counts_path)"
   ]
  },
  {
   "cell_type": "code",
   "execution_count": null,
   "metadata": {},
   "outputs": [],
   "source": [
    "for idx in range(0, N):\n",
    "    print ('Starting sample: ' + str(idx))\n",
    "    sgns_path = make_sgns_dir(path, sgns_dir, idx)\n",
    "    [sgns_contexts_path, sgns_words_path] = run_word2vecf(path, sgns_path)\n",
    "    # python2 hyperwords/multi2mono.py ./${1}/sgns/words ./${1}/sgns\n",
    "    m2m.multi2mono(sgns_words_path, sgns_path)\n",
    "    vecs_to_numpy(sgns_path)"
   ]
  },
  {
   "cell_type": "code",
   "execution_count": null,
   "metadata": {
    "collapsed": true
   },
   "outputs": [],
   "source": []
  }
 ],
 "metadata": {
  "kernelspec": {
   "display_name": "Python 2",
   "language": "python",
   "name": "python2"
  },
  "language_info": {
   "codemirror_mode": {
    "name": "ipython",
    "version": 2
   },
   "file_extension": ".py",
   "mimetype": "text/x-python",
   "name": "python",
   "nbconvert_exporter": "python",
   "pygments_lexer": "ipython2",
   "version": "2.7.13"
  }
 },
 "nbformat": 4,
 "nbformat_minor": 2
}
