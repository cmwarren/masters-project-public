{
 "cells": [
  {
   "cell_type": "code",
   "execution_count": null,
   "metadata": {
    "collapsed": true
   },
   "outputs": [],
   "source": [
    "%run ./evaluation_lib.ipynb"
   ]
  },
  {
   "cell_type": "code",
   "execution_count": null,
   "metadata": {
    "collapsed": true
   },
   "outputs": [],
   "source": [
    "baseline_vecs_dir_prefix = 'sgns_baseline'\n",
    "enriched_vecs_dir_prefix = 'sgns_enriched'\n",
    "training_corpus = 'bible'\n",
    "enrich_corpus = 'twitter'\n",
    "enriched_corpus = training_corpus + '-' + enrich_corpus\n",
    "results_spreadsheet = training_corpus + '_oov_eval.xlsx'\n",
    "precision_at_N = 1\n",
    "lang_list=['es','fi','fr']"
   ]
  },
  {
   "cell_type": "markdown",
   "metadata": {},
   "source": [
    "EITHER: To generate baseline results from scratch, execute next 4 blocks"
   ]
  },
  {
   "cell_type": "code",
   "execution_count": null,
   "metadata": {
    "collapsed": true
   },
   "outputs": [],
   "source": [
    "oov_sample_dist = evaluate_sample_distribution(training_corpus, baseline_vecs_dir_prefix, b_alignment=False, b_wiktionary=True, \n",
    "                                 b_include_oov=True, lang_list=lang_list, precision_at_N=precision_at_N)"
   ]
  },
  {
   "cell_type": "code",
   "execution_count": null,
   "metadata": {
    "collapsed": true
   },
   "outputs": [],
   "source": [
    "df_oov_results = pd.DataFrame(oov_sample_dist)"
   ]
  },
  {
   "cell_type": "code",
   "execution_count": null,
   "metadata": {
    "collapsed": true
   },
   "outputs": [],
   "source": [
    "df_oov_results"
   ]
  },
  {
   "cell_type": "code",
   "execution_count": null,
   "metadata": {
    "collapsed": true
   },
   "outputs": [],
   "source": [
    "df_oov_results.to_pickle('./' + training_corpus + '/df_p' + str(precision_at_N) + '_oov_results.pickle')"
   ]
  },
  {
   "cell_type": "markdown",
   "metadata": {},
   "source": [
    "OR: To retrieve baseline results from file, execute next block"
   ]
  },
  {
   "cell_type": "code",
   "execution_count": null,
   "metadata": {},
   "outputs": [],
   "source": [
    "df_oov_results = pd.read_pickle('./' + training_corpus + '/df__oov_results.pickle')"
   ]
  },
  {
   "cell_type": "markdown",
   "metadata": {},
   "source": [
    "CONTINUE"
   ]
  },
  {
   "cell_type": "code",
   "execution_count": null,
   "metadata": {
    "collapsed": true
   },
   "outputs": [],
   "source": [
    "df_oov_results.loc['mu-sample'] = df_oov_results.mean()"
   ]
  },
  {
   "cell_type": "code",
   "execution_count": null,
   "metadata": {},
   "outputs": [],
   "source": [
    "df_oov_results"
   ]
  },
  {
   "cell_type": "code",
   "execution_count": null,
   "metadata": {
    "collapsed": true
   },
   "outputs": [],
   "source": [
    "df_filtered_oov_results = df_oov_results.filter(['wiktionary-en-es',\n",
    "                  'wiktionary-en-fi',\n",
    "                  'wiktionary-en-fr',\n",
    "                  'wiktionary-es-en',\n",
    "                  'wiktionary-fi-en',\n",
    "                  'wiktionary-fr-en'], \n",
    "                 axis=1)\n",
    "df_filtered_oov_results.columns = ['en-es','en-fi','en-fr','es-en','fi-en','fr-en']\n",
    "df_filtered_oov_results = df_filtered_oov_results.round(4)"
   ]
  },
  {
   "cell_type": "code",
   "execution_count": null,
   "metadata": {},
   "outputs": [],
   "source": [
    "print(df_filtered_oov_results.to_latex())"
   ]
  },
  {
   "cell_type": "code",
   "execution_count": null,
   "metadata": {},
   "outputs": [],
   "source": [
    "baseline_mean = df_oov_results.mean().to_dict()\n",
    "baseline_mean"
   ]
  },
  {
   "cell_type": "markdown",
   "metadata": {},
   "source": [
    "EITHER: To generate enriched results from scratch and do significance testing, execute next 6 blocks"
   ]
  },
  {
   "cell_type": "code",
   "execution_count": null,
   "metadata": {},
   "outputs": [],
   "source": [
    "enriched_dist = evaluate_sample_distribution(enriched_corpus, enriched_vecs_dir_prefix, b_alignment=False, b_wiktionary=True, \n",
    "                                 b_include_oov=True, lang_list=lang_list, precision_at_N=precision_at_N)"
   ]
  },
  {
   "cell_type": "code",
   "execution_count": null,
   "metadata": {
    "collapsed": true
   },
   "outputs": [],
   "source": [
    "df_enriched_results = pd.DataFrame(enriched_dist)"
   ]
  },
  {
   "cell_type": "code",
   "execution_count": null,
   "metadata": {},
   "outputs": [],
   "source": [
    "df_enriched_results"
   ]
  },
  {
   "cell_type": "code",
   "execution_count": null,
   "metadata": {
    "collapsed": true
   },
   "outputs": [],
   "source": [
    "df_enriched_results.to_pickle('./' + enriched_corpus + '/df_p' + str(precision_at_N) + '_enriched_results.pickle')"
   ]
  },
  {
   "cell_type": "code",
   "execution_count": null,
   "metadata": {},
   "outputs": [],
   "source": [
    "df_sig_results = calc_t_test(df_enriched_results, baseline_mean)"
   ]
  },
  {
   "cell_type": "code",
   "execution_count": null,
   "metadata": {},
   "outputs": [],
   "source": [
    "df_sig_results"
   ]
  },
  {
   "cell_type": "code",
   "execution_count": null,
   "metadata": {
    "collapsed": true
   },
   "outputs": [],
   "source": [
    "df_sig_results.to_pickle('./' + enriched_corpus + '/df_p' + str(precision_at_N) + '_sig_results.pickle')"
   ]
  },
  {
   "cell_type": "code",
   "execution_count": null,
   "metadata": {
    "collapsed": true
   },
   "outputs": [],
   "source": [
    "writer = pd.ExcelWriter(results_spreadsheet)\n",
    "df_sig_results.to_excel(writer, enriched_vecs_dir_prefix)\n",
    "writer.save()"
   ]
  },
  {
   "cell_type": "markdown",
   "metadata": {},
   "source": [
    "OR: To retrieve enriched results with signficance tests from file, execute next block"
   ]
  },
  {
   "cell_type": "code",
   "execution_count": null,
   "metadata": {
    "collapsed": true
   },
   "outputs": [],
   "source": [
    "df_sig_results = pd.read_pickle('./' + enriched_corpus + '/df_p' + str(precision_at_N) + '_sig_results.pickle')"
   ]
  },
  {
   "cell_type": "markdown",
   "metadata": {},
   "source": [
    "CONTINUE"
   ]
  },
  {
   "cell_type": "code",
   "execution_count": null,
   "metadata": {
    "collapsed": true
   },
   "outputs": [],
   "source": [
    "df_filtered_sig_results = df_sig_results.filter(['wiktionary-en-es',\n",
    "                  'wiktionary-en-fi',\n",
    "                  'wiktionary-en-fr',\n",
    "                  'wiktionary-es-en',\n",
    "                  'wiktionary-fi-en',\n",
    "                  'wiktionary-fr-en'], \n",
    "                 axis=1)\n",
    "df_filtered_sig_results.columns = ['en-es','en-fi','en-fr','es-en','fi-en','fr-en']\n",
    "df_filtered_sig_results = df_filtered_sig_results.round(4)"
   ]
  },
  {
   "cell_type": "code",
   "execution_count": null,
   "metadata": {},
   "outputs": [],
   "source": [
    "print(df_filtered_sig_results.to_latex())"
   ]
  },
  {
   "cell_type": "code",
   "execution_count": null,
   "metadata": {
    "collapsed": true
   },
   "outputs": [],
   "source": []
  }
 ],
 "metadata": {
  "kernelspec": {
   "display_name": "Python 2",
   "language": "python",
   "name": "python2"
  },
  "language_info": {
   "codemirror_mode": {
    "name": "ipython",
    "version": 2
   },
   "file_extension": ".py",
   "mimetype": "text/x-python",
   "name": "python",
   "nbconvert_exporter": "python",
   "pygments_lexer": "ipython2",
   "version": "2.7.13"
  }
 },
 "nbformat": 4,
 "nbformat_minor": 2
}
