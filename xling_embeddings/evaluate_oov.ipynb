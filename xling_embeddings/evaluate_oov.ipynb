{
 "cells": [
  {
   "cell_type": "code",
   "execution_count": 1,
   "metadata": {
    "collapsed": true
   },
   "outputs": [],
   "source": [
    "%run ./evaluation_lib.ipynb"
   ]
  },
  {
   "cell_type": "code",
   "execution_count": 2,
   "metadata": {
    "collapsed": true
   },
   "outputs": [],
   "source": [
    "baseline_vecs_dir_prefix = 'sgns_baseline'\n",
    "enriched_vecs_dir_prefix = 'sgns_enriched'\n",
    "training_corpus = 'bible'\n",
    "enrich_corpus = 'twitter'\n",
    "enriched_corpus = training_corpus + '-' + enrich_corpus\n",
    "results_spreadsheet = training_corpus + '_oov_eval.xlsx'\n",
    "precision_at_N = 1\n",
    "lang_list=['es','fi','fr']"
   ]
  },
  {
   "cell_type": "markdown",
   "metadata": {},
   "source": [
    "EITHER: To generate baseline results from scratch, execute next 4 blocks"
   ]
  },
  {
   "cell_type": "code",
   "execution_count": null,
   "metadata": {
    "collapsed": true
   },
   "outputs": [],
   "source": [
    "oov_sample_dist = evaluate_sample_distribution(training_corpus, baseline_vecs_dir_prefix, b_alignment=False, b_wiktionary=True, \n",
    "                                 b_include_oov=True, lang_list=lang_list, precision_at_N=precision_at_N)"
   ]
  },
  {
   "cell_type": "code",
   "execution_count": null,
   "metadata": {
    "collapsed": true
   },
   "outputs": [],
   "source": [
    "df_oov_results = pd.DataFrame(oov_sample_dist)"
   ]
  },
  {
   "cell_type": "code",
   "execution_count": null,
   "metadata": {
    "collapsed": true
   },
   "outputs": [],
   "source": [
    "df_oov_results"
   ]
  },
  {
   "cell_type": "code",
   "execution_count": null,
   "metadata": {
    "collapsed": true
   },
   "outputs": [],
   "source": [
    "df_oov_results.to_pickle('./' + training_corpus + '/df_p' + str(precision_at_N) + '_oov_results.pickle')"
   ]
  },
  {
   "cell_type": "markdown",
   "metadata": {},
   "source": [
    "OR: To retrieve baseline results from file, execute next block"
   ]
  },
  {
   "cell_type": "code",
   "execution_count": 3,
   "metadata": {},
   "outputs": [],
   "source": [
    "df_oov_results = pd.read_pickle('./' + training_corpus + '/df__oov_results.pickle')"
   ]
  },
  {
   "cell_type": "markdown",
   "metadata": {},
   "source": [
    "CONTINUE"
   ]
  },
  {
   "cell_type": "code",
   "execution_count": 4,
   "metadata": {
    "collapsed": true
   },
   "outputs": [],
   "source": [
    "df_oov_results.loc['mu-sample'] = df_oov_results.mean()"
   ]
  },
  {
   "cell_type": "code",
   "execution_count": 5,
   "metadata": {},
   "outputs": [
    {
     "data": {
      "text/html": [
       "<div>\n",
       "<style>\n",
       "    .dataframe thead tr:only-child th {\n",
       "        text-align: right;\n",
       "    }\n",
       "\n",
       "    .dataframe thead th {\n",
       "        text-align: left;\n",
       "    }\n",
       "\n",
       "    .dataframe tbody tr th {\n",
       "        vertical-align: top;\n",
       "    }\n",
       "</style>\n",
       "<table border=\"1\" class=\"dataframe\">\n",
       "  <thead>\n",
       "    <tr style=\"text-align: right;\">\n",
       "      <th></th>\n",
       "      <th>wiktionary-ar-en</th>\n",
       "      <th>wiktionary-en-ar</th>\n",
       "      <th>wiktionary-en-es</th>\n",
       "      <th>wiktionary-en-fi</th>\n",
       "      <th>wiktionary-en-fr</th>\n",
       "      <th>wiktionary-en-he</th>\n",
       "      <th>wiktionary-en-hu</th>\n",
       "      <th>wiktionary-en-pt</th>\n",
       "      <th>wiktionary-en-tr</th>\n",
       "      <th>wiktionary-es-en</th>\n",
       "      <th>wiktionary-fi-en</th>\n",
       "      <th>wiktionary-fr-en</th>\n",
       "      <th>wiktionary-he-en</th>\n",
       "      <th>wiktionary-hu-en</th>\n",
       "      <th>wiktionary-pt-en</th>\n",
       "      <th>wiktionary-tr-en</th>\n",
       "    </tr>\n",
       "  </thead>\n",
       "  <tbody>\n",
       "    <tr>\n",
       "      <th>0</th>\n",
       "      <td>0.025687</td>\n",
       "      <td>0.013526</td>\n",
       "      <td>0.041465</td>\n",
       "      <td>0.009952</td>\n",
       "      <td>0.036304</td>\n",
       "      <td>0.016672</td>\n",
       "      <td>0.016290</td>\n",
       "      <td>0.049514</td>\n",
       "      <td>0.037332</td>\n",
       "      <td>0.045674</td>\n",
       "      <td>0.015881</td>\n",
       "      <td>0.042188</td>\n",
       "      <td>0.024518</td>\n",
       "      <td>0.022679</td>\n",
       "      <td>0.053030</td>\n",
       "      <td>0.045868</td>\n",
       "    </tr>\n",
       "    <tr>\n",
       "      <th>1</th>\n",
       "      <td>0.025960</td>\n",
       "      <td>0.013526</td>\n",
       "      <td>0.041465</td>\n",
       "      <td>0.009726</td>\n",
       "      <td>0.036179</td>\n",
       "      <td>0.016672</td>\n",
       "      <td>0.016192</td>\n",
       "      <td>0.049714</td>\n",
       "      <td>0.036649</td>\n",
       "      <td>0.045447</td>\n",
       "      <td>0.015738</td>\n",
       "      <td>0.042812</td>\n",
       "      <td>0.023537</td>\n",
       "      <td>0.022386</td>\n",
       "      <td>0.053059</td>\n",
       "      <td>0.045413</td>\n",
       "    </tr>\n",
       "    <tr>\n",
       "      <th>2</th>\n",
       "      <td>0.025960</td>\n",
       "      <td>0.013800</td>\n",
       "      <td>0.041750</td>\n",
       "      <td>0.009603</td>\n",
       "      <td>0.036254</td>\n",
       "      <td>0.017326</td>\n",
       "      <td>0.016631</td>\n",
       "      <td>0.049142</td>\n",
       "      <td>0.037901</td>\n",
       "      <td>0.045248</td>\n",
       "      <td>0.015717</td>\n",
       "      <td>0.042263</td>\n",
       "      <td>0.024518</td>\n",
       "      <td>0.022971</td>\n",
       "      <td>0.052830</td>\n",
       "      <td>0.045755</td>\n",
       "    </tr>\n",
       "    <tr>\n",
       "      <th>3</th>\n",
       "      <td>0.025960</td>\n",
       "      <td>0.013663</td>\n",
       "      <td>0.041351</td>\n",
       "      <td>0.009582</td>\n",
       "      <td>0.036030</td>\n",
       "      <td>0.017162</td>\n",
       "      <td>0.016143</td>\n",
       "      <td>0.049314</td>\n",
       "      <td>0.037104</td>\n",
       "      <td>0.045674</td>\n",
       "      <td>0.015923</td>\n",
       "      <td>0.042512</td>\n",
       "      <td>0.024681</td>\n",
       "      <td>0.022142</td>\n",
       "      <td>0.052802</td>\n",
       "      <td>0.045868</td>\n",
       "    </tr>\n",
       "    <tr>\n",
       "      <th>4</th>\n",
       "      <td>0.025003</td>\n",
       "      <td>0.013253</td>\n",
       "      <td>0.041778</td>\n",
       "      <td>0.009644</td>\n",
       "      <td>0.035830</td>\n",
       "      <td>0.017653</td>\n",
       "      <td>0.016143</td>\n",
       "      <td>0.049228</td>\n",
       "      <td>0.037674</td>\n",
       "      <td>0.045873</td>\n",
       "      <td>0.015923</td>\n",
       "      <td>0.042612</td>\n",
       "      <td>0.024518</td>\n",
       "      <td>0.022337</td>\n",
       "      <td>0.053059</td>\n",
       "      <td>0.044844</td>\n",
       "    </tr>\n",
       "    <tr>\n",
       "      <th>5</th>\n",
       "      <td>0.026370</td>\n",
       "      <td>0.013253</td>\n",
       "      <td>0.041551</td>\n",
       "      <td>0.009787</td>\n",
       "      <td>0.036005</td>\n",
       "      <td>0.016836</td>\n",
       "      <td>0.016485</td>\n",
       "      <td>0.049257</td>\n",
       "      <td>0.037674</td>\n",
       "      <td>0.045561</td>\n",
       "      <td>0.015799</td>\n",
       "      <td>0.042213</td>\n",
       "      <td>0.024027</td>\n",
       "      <td>0.022532</td>\n",
       "      <td>0.052744</td>\n",
       "      <td>0.045527</td>\n",
       "    </tr>\n",
       "    <tr>\n",
       "      <th>6</th>\n",
       "      <td>0.025960</td>\n",
       "      <td>0.013800</td>\n",
       "      <td>0.041380</td>\n",
       "      <td>0.009685</td>\n",
       "      <td>0.035980</td>\n",
       "      <td>0.017162</td>\n",
       "      <td>0.016241</td>\n",
       "      <td>0.049714</td>\n",
       "      <td>0.038129</td>\n",
       "      <td>0.045162</td>\n",
       "      <td>0.015799</td>\n",
       "      <td>0.042288</td>\n",
       "      <td>0.024681</td>\n",
       "      <td>0.022483</td>\n",
       "      <td>0.053259</td>\n",
       "      <td>0.045299</td>\n",
       "    </tr>\n",
       "    <tr>\n",
       "      <th>7</th>\n",
       "      <td>0.025960</td>\n",
       "      <td>0.013253</td>\n",
       "      <td>0.041636</td>\n",
       "      <td>0.009603</td>\n",
       "      <td>0.036030</td>\n",
       "      <td>0.016509</td>\n",
       "      <td>0.016436</td>\n",
       "      <td>0.049371</td>\n",
       "      <td>0.037104</td>\n",
       "      <td>0.045475</td>\n",
       "      <td>0.015943</td>\n",
       "      <td>0.042812</td>\n",
       "      <td>0.024518</td>\n",
       "      <td>0.022093</td>\n",
       "      <td>0.052487</td>\n",
       "      <td>0.045072</td>\n",
       "    </tr>\n",
       "    <tr>\n",
       "      <th>8</th>\n",
       "      <td>0.025550</td>\n",
       "      <td>0.013390</td>\n",
       "      <td>0.041636</td>\n",
       "      <td>0.009459</td>\n",
       "      <td>0.036254</td>\n",
       "      <td>0.016509</td>\n",
       "      <td>0.016680</td>\n",
       "      <td>0.049057</td>\n",
       "      <td>0.037218</td>\n",
       "      <td>0.045447</td>\n",
       "      <td>0.015820</td>\n",
       "      <td>0.042687</td>\n",
       "      <td>0.023864</td>\n",
       "      <td>0.021898</td>\n",
       "      <td>0.052744</td>\n",
       "      <td>0.045413</td>\n",
       "    </tr>\n",
       "    <tr>\n",
       "      <th>9</th>\n",
       "      <td>0.026233</td>\n",
       "      <td>0.013663</td>\n",
       "      <td>0.041664</td>\n",
       "      <td>0.009808</td>\n",
       "      <td>0.035980</td>\n",
       "      <td>0.016018</td>\n",
       "      <td>0.016436</td>\n",
       "      <td>0.049142</td>\n",
       "      <td>0.036763</td>\n",
       "      <td>0.045873</td>\n",
       "      <td>0.015984</td>\n",
       "      <td>0.042712</td>\n",
       "      <td>0.024354</td>\n",
       "      <td>0.022727</td>\n",
       "      <td>0.053631</td>\n",
       "      <td>0.046665</td>\n",
       "    </tr>\n",
       "    <tr>\n",
       "      <th>mu-sample</th>\n",
       "      <td>0.025864</td>\n",
       "      <td>0.013513</td>\n",
       "      <td>0.041568</td>\n",
       "      <td>0.009685</td>\n",
       "      <td>0.036084</td>\n",
       "      <td>0.016852</td>\n",
       "      <td>0.016368</td>\n",
       "      <td>0.049345</td>\n",
       "      <td>0.037355</td>\n",
       "      <td>0.045543</td>\n",
       "      <td>0.015853</td>\n",
       "      <td>0.042510</td>\n",
       "      <td>0.024322</td>\n",
       "      <td>0.022425</td>\n",
       "      <td>0.052965</td>\n",
       "      <td>0.045573</td>\n",
       "    </tr>\n",
       "  </tbody>\n",
       "</table>\n",
       "</div>"
      ],
      "text/plain": [
       "           wiktionary-ar-en  wiktionary-en-ar  wiktionary-en-es  \\\n",
       "0                  0.025687          0.013526          0.041465   \n",
       "1                  0.025960          0.013526          0.041465   \n",
       "2                  0.025960          0.013800          0.041750   \n",
       "3                  0.025960          0.013663          0.041351   \n",
       "4                  0.025003          0.013253          0.041778   \n",
       "5                  0.026370          0.013253          0.041551   \n",
       "6                  0.025960          0.013800          0.041380   \n",
       "7                  0.025960          0.013253          0.041636   \n",
       "8                  0.025550          0.013390          0.041636   \n",
       "9                  0.026233          0.013663          0.041664   \n",
       "mu-sample          0.025864          0.013513          0.041568   \n",
       "\n",
       "           wiktionary-en-fi  wiktionary-en-fr  wiktionary-en-he  \\\n",
       "0                  0.009952          0.036304          0.016672   \n",
       "1                  0.009726          0.036179          0.016672   \n",
       "2                  0.009603          0.036254          0.017326   \n",
       "3                  0.009582          0.036030          0.017162   \n",
       "4                  0.009644          0.035830          0.017653   \n",
       "5                  0.009787          0.036005          0.016836   \n",
       "6                  0.009685          0.035980          0.017162   \n",
       "7                  0.009603          0.036030          0.016509   \n",
       "8                  0.009459          0.036254          0.016509   \n",
       "9                  0.009808          0.035980          0.016018   \n",
       "mu-sample          0.009685          0.036084          0.016852   \n",
       "\n",
       "           wiktionary-en-hu  wiktionary-en-pt  wiktionary-en-tr  \\\n",
       "0                  0.016290          0.049514          0.037332   \n",
       "1                  0.016192          0.049714          0.036649   \n",
       "2                  0.016631          0.049142          0.037901   \n",
       "3                  0.016143          0.049314          0.037104   \n",
       "4                  0.016143          0.049228          0.037674   \n",
       "5                  0.016485          0.049257          0.037674   \n",
       "6                  0.016241          0.049714          0.038129   \n",
       "7                  0.016436          0.049371          0.037104   \n",
       "8                  0.016680          0.049057          0.037218   \n",
       "9                  0.016436          0.049142          0.036763   \n",
       "mu-sample          0.016368          0.049345          0.037355   \n",
       "\n",
       "           wiktionary-es-en  wiktionary-fi-en  wiktionary-fr-en  \\\n",
       "0                  0.045674          0.015881          0.042188   \n",
       "1                  0.045447          0.015738          0.042812   \n",
       "2                  0.045248          0.015717          0.042263   \n",
       "3                  0.045674          0.015923          0.042512   \n",
       "4                  0.045873          0.015923          0.042612   \n",
       "5                  0.045561          0.015799          0.042213   \n",
       "6                  0.045162          0.015799          0.042288   \n",
       "7                  0.045475          0.015943          0.042812   \n",
       "8                  0.045447          0.015820          0.042687   \n",
       "9                  0.045873          0.015984          0.042712   \n",
       "mu-sample          0.045543          0.015853          0.042510   \n",
       "\n",
       "           wiktionary-he-en  wiktionary-hu-en  wiktionary-pt-en  \\\n",
       "0                  0.024518          0.022679          0.053030   \n",
       "1                  0.023537          0.022386          0.053059   \n",
       "2                  0.024518          0.022971          0.052830   \n",
       "3                  0.024681          0.022142          0.052802   \n",
       "4                  0.024518          0.022337          0.053059   \n",
       "5                  0.024027          0.022532          0.052744   \n",
       "6                  0.024681          0.022483          0.053259   \n",
       "7                  0.024518          0.022093          0.052487   \n",
       "8                  0.023864          0.021898          0.052744   \n",
       "9                  0.024354          0.022727          0.053631   \n",
       "mu-sample          0.024322          0.022425          0.052965   \n",
       "\n",
       "           wiktionary-tr-en  \n",
       "0                  0.045868  \n",
       "1                  0.045413  \n",
       "2                  0.045755  \n",
       "3                  0.045868  \n",
       "4                  0.044844  \n",
       "5                  0.045527  \n",
       "6                  0.045299  \n",
       "7                  0.045072  \n",
       "8                  0.045413  \n",
       "9                  0.046665  \n",
       "mu-sample          0.045573  "
      ]
     },
     "execution_count": 5,
     "metadata": {},
     "output_type": "execute_result"
    }
   ],
   "source": [
    "df_oov_results"
   ]
  },
  {
   "cell_type": "code",
   "execution_count": 6,
   "metadata": {
    "collapsed": true
   },
   "outputs": [],
   "source": [
    "df_filtered_oov_results = df_oov_results.filter(['wiktionary-en-es',\n",
    "                  'wiktionary-en-fi',\n",
    "                  'wiktionary-en-fr',\n",
    "                  'wiktionary-es-en',\n",
    "                  'wiktionary-fi-en',\n",
    "                  'wiktionary-fr-en'], \n",
    "                 axis=1)\n",
    "df_filtered_oov_results.columns = ['en-es','en-fi','en-fr','es-en','fi-en','fr-en']\n",
    "df_filtered_oov_results = df_filtered_oov_results.round(4)"
   ]
  },
  {
   "cell_type": "code",
   "execution_count": 7,
   "metadata": {},
   "outputs": [
    {
     "name": "stdout",
     "output_type": "stream",
     "text": [
      "\\begin{tabular}{lrrrrrr}\n",
      "\\toprule\n",
      "{} &   en-es &   en-fi &   en-fr &   es-en &   fi-en &   fr-en \\\\\n",
      "\\midrule\n",
      "0         &  0.0415 &  0.0100 &  0.0363 &  0.0457 &  0.0159 &  0.0422 \\\\\n",
      "1         &  0.0415 &  0.0097 &  0.0362 &  0.0454 &  0.0157 &  0.0428 \\\\\n",
      "2         &  0.0417 &  0.0096 &  0.0363 &  0.0452 &  0.0157 &  0.0423 \\\\\n",
      "3         &  0.0414 &  0.0096 &  0.0360 &  0.0457 &  0.0159 &  0.0425 \\\\\n",
      "4         &  0.0418 &  0.0096 &  0.0358 &  0.0459 &  0.0159 &  0.0426 \\\\\n",
      "5         &  0.0416 &  0.0098 &  0.0360 &  0.0456 &  0.0158 &  0.0422 \\\\\n",
      "6         &  0.0414 &  0.0097 &  0.0360 &  0.0452 &  0.0158 &  0.0423 \\\\\n",
      "7         &  0.0416 &  0.0096 &  0.0360 &  0.0455 &  0.0159 &  0.0428 \\\\\n",
      "8         &  0.0416 &  0.0095 &  0.0363 &  0.0454 &  0.0158 &  0.0427 \\\\\n",
      "9         &  0.0417 &  0.0098 &  0.0360 &  0.0459 &  0.0160 &  0.0427 \\\\\n",
      "mu-sample &  0.0416 &  0.0097 &  0.0361 &  0.0455 &  0.0159 &  0.0425 \\\\\n",
      "\\bottomrule\n",
      "\\end{tabular}\n",
      "\n"
     ]
    }
   ],
   "source": [
    "print(df_filtered_oov_results.to_latex())"
   ]
  },
  {
   "cell_type": "code",
   "execution_count": 8,
   "metadata": {},
   "outputs": [
    {
     "data": {
      "text/plain": [
       "{'wiktionary-ar-en': 0.02586418909687116,\n",
       " 'wiktionary-en-ar': 0.013512774969258094,\n",
       " 'wiktionary-en-es': 0.041567601387861891,\n",
       " 'wiktionary-en-fi': 0.0096848325673013786,\n",
       " 'wiktionary-en-fr': 0.036084376402533293,\n",
       " 'wiktionary-en-he': 0.016851912389669828,\n",
       " 'wiktionary-en-hu': 0.016367538041357786,\n",
       " 'wiktionary-en-pt': 0.049345340194396785,\n",
       " 'wiktionary-en-tr': 0.037354882768040061,\n",
       " 'wiktionary-es-en': 0.045543484443433251,\n",
       " 'wiktionary-fi-en': 0.015852757715036112,\n",
       " 'wiktionary-fr-en': 0.042509848900413913,\n",
       " 'wiktionary-he-en': 0.024321673749591367,\n",
       " 'wiktionary-hu-en': 0.022424892703862664,\n",
       " 'wiktionary-pt-en': 0.052964551172098334,\n",
       " 'wiktionary-tr-en': 0.045572501707261549}"
      ]
     },
     "execution_count": 8,
     "metadata": {},
     "output_type": "execute_result"
    }
   ],
   "source": [
    "baseline_mean = df_oov_results.mean().to_dict()\n",
    "baseline_mean"
   ]
  },
  {
   "cell_type": "markdown",
   "metadata": {},
   "source": [
    "EITHER: To generate enriched results from scratch and do significance testing, execute next 6 blocks"
   ]
  },
  {
   "cell_type": "code",
   "execution_count": null,
   "metadata": {},
   "outputs": [
    {
     "name": "stdout",
     "output_type": "stream",
     "text": [
      "Test sample: sgns_enriched_0\n",
      "\tEvaluating: wiktionary-en-es\n",
      "\tEvaluating: wiktionary-es-en\n",
      "\tEvaluating: wiktionary-en-fi\n",
      "\tEvaluating: wiktionary-fi-en\n",
      "\tEvaluating: wiktionary-en-fr\n",
      "\tEvaluating: wiktionary-fr-en\n",
      "Test sample: sgns_enriched_1\n",
      "\tEvaluating: wiktionary-en-es\n",
      "\tEvaluating: wiktionary-es-en\n",
      "\tEvaluating: wiktionary-en-fi\n",
      "\tEvaluating: wiktionary-fi-en\n",
      "\tEvaluating: wiktionary-en-fr\n"
     ]
    }
   ],
   "source": [
    "enriched_dist = evaluate_sample_distribution(enriched_corpus, enriched_vecs_dir_prefix, b_alignment=False, b_wiktionary=True, \n",
    "                                 b_include_oov=True, lang_list=lang_list, precision_at_N=precision_at_N)"
   ]
  },
  {
   "cell_type": "code",
   "execution_count": null,
   "metadata": {
    "collapsed": true
   },
   "outputs": [],
   "source": [
    "df_enriched_results = pd.DataFrame(enriched_dist)"
   ]
  },
  {
   "cell_type": "code",
   "execution_count": null,
   "metadata": {},
   "outputs": [],
   "source": [
    "df_enriched_results"
   ]
  },
  {
   "cell_type": "code",
   "execution_count": null,
   "metadata": {
    "collapsed": true
   },
   "outputs": [],
   "source": [
    "df_enriched_results.to_pickle('./' + enriched_corpus + '/df_p' + str(precision_at_N) + '_enriched_results.pickle')"
   ]
  },
  {
   "cell_type": "code",
   "execution_count": null,
   "metadata": {},
   "outputs": [],
   "source": [
    "df_sig_results = calc_t_test(df_enriched_results, baseline_mean)"
   ]
  },
  {
   "cell_type": "code",
   "execution_count": null,
   "metadata": {},
   "outputs": [],
   "source": [
    "df_sig_results"
   ]
  },
  {
   "cell_type": "code",
   "execution_count": null,
   "metadata": {
    "collapsed": true
   },
   "outputs": [],
   "source": [
    "df_sig_results.to_pickle('./' + enriched_corpus + '/df_p' + str(precision_at_N) + '_sig_results.pickle')"
   ]
  },
  {
   "cell_type": "code",
   "execution_count": null,
   "metadata": {
    "collapsed": true
   },
   "outputs": [],
   "source": [
    "writer = pd.ExcelWriter(results_spreadsheet)\n",
    "df_sig_results.to_excel(writer, enriched_vecs_dir_prefix)\n",
    "writer.save()"
   ]
  },
  {
   "cell_type": "markdown",
   "metadata": {},
   "source": [
    "OR: To retrieve enriched results with signficance tests from file, execute next block"
   ]
  },
  {
   "cell_type": "code",
   "execution_count": null,
   "metadata": {
    "collapsed": true
   },
   "outputs": [],
   "source": [
    "df_sig_results = pd.read_pickle('./' + enriched_corpus + '/df_p' + str(precision_at_N) + '_sig_results.pickle')"
   ]
  },
  {
   "cell_type": "markdown",
   "metadata": {},
   "source": [
    "CONTINUE"
   ]
  },
  {
   "cell_type": "code",
   "execution_count": null,
   "metadata": {
    "collapsed": true
   },
   "outputs": [],
   "source": [
    "df_filtered_sig_results = df_sig_results.filter(['wiktionary-en-es',\n",
    "                  'wiktionary-en-fi',\n",
    "                  'wiktionary-en-fr',\n",
    "                  'wiktionary-es-en',\n",
    "                  'wiktionary-fi-en',\n",
    "                  'wiktionary-fr-en'], \n",
    "                 axis=1)\n",
    "df_filtered_sig_results.columns = ['en-es','en-fi','en-fr','es-en','fi-en','fr-en']\n",
    "df_filtered_sig_results = df_filtered_sig_results.round(4)"
   ]
  },
  {
   "cell_type": "code",
   "execution_count": null,
   "metadata": {},
   "outputs": [],
   "source": [
    "print(df_filtered_sig_results.to_latex())"
   ]
  },
  {
   "cell_type": "code",
   "execution_count": null,
   "metadata": {
    "collapsed": true
   },
   "outputs": [],
   "source": []
  }
 ],
 "metadata": {
  "kernelspec": {
   "display_name": "Python 2",
   "language": "python",
   "name": "python2"
  },
  "language_info": {
   "codemirror_mode": {
    "name": "ipython",
    "version": 2
   },
   "file_extension": ".py",
   "mimetype": "text/x-python",
   "name": "python",
   "nbconvert_exporter": "python",
   "pygments_lexer": "ipython2",
   "version": "2.7.13"
  }
 },
 "nbformat": 4,
 "nbformat_minor": 2
}
