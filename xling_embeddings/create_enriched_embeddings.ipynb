{
 "cells": [
  {
   "cell_type": "code",
   "execution_count": null,
   "metadata": {
    "collapsed": true
   },
   "outputs": [],
   "source": [
    "# -*- coding: utf-8 -*-\n",
    "from hyperwords import multi2mono as m2m\n",
    "import os"
   ]
  },
  {
   "cell_type": "code",
   "execution_count": null,
   "metadata": {
    "collapsed": true
   },
   "outputs": [],
   "source": [
    "%run ./create_embeddings_lib.ipynb"
   ]
  },
  {
   "cell_type": "code",
   "execution_count": null,
   "metadata": {
    "collapsed": true
   },
   "outputs": [],
   "source": [
    "N=10  # Number of test samples to create\n",
    "\n",
    "# Default file paths\n",
    "training_corpus = 'bible'\n",
    "path = './' + training_corpus + '/'\n",
    "pairs_path = path + 'pairs'\n",
    "enrich_corpus = 'wikipedia'\n",
    "enrich_corpus_path = '../extract_scripts/' + enrich_corpus + '/data/ranked_150000/'\n",
    "enrich_pairs_path = enrich_corpus_path + 'pairs'\n",
    "combined_path = './' + training_corpus + '-' + enrich_corpus + '/'\n",
    "combined_pairs_path = combined_path + 'pairs'\n",
    "counts_path = combined_path + 'counts'\n",
    "counts_contexts_path = combined_path + 'counts.contexts.vocab'\n",
    "counts_words_path = combined_path + 'counts.words.vocab'\n",
    "sgns_dir = 'sgns_enriched'\n",
    "sgns_path = combined_path + sgns_dir + '/'"
   ]
  },
  {
   "cell_type": "code",
   "execution_count": null,
   "metadata": {
    "collapsed": true
   },
   "outputs": [],
   "source": [
    "# No need to refresh the bible pairs file every time\n",
    "#[path, pairs_path] = create_pairs(path)"
   ]
  },
  {
   "cell_type": "code",
   "execution_count": null,
   "metadata": {
    "collapsed": true
   },
   "outputs": [],
   "source": [
    "# Create the pairs file for the enrich corpus\n",
    "[enrich_path, enrich_pairs_path] = create_pairs(enrich_corpus_path)"
   ]
  },
  {
   "cell_type": "code",
   "execution_count": null,
   "metadata": {},
   "outputs": [],
   "source": [
    "# Produce counts for the enriched pairs - used only for frequency distribution analysis, not for training\n",
    "enrich_counts_path = create_counts(enrich_corpus_path, enrich_pairs_path)"
   ]
  },
  {
   "cell_type": "code",
   "execution_count": null,
   "metadata": {
    "collapsed": true
   },
   "outputs": [],
   "source": [
    "c2v.counts2vocab(enrich_counts_path)"
   ]
  },
  {
   "cell_type": "code",
   "execution_count": null,
   "metadata": {
    "collapsed": true
   },
   "outputs": [],
   "source": [
    "# Create an output directory for the combined pairs/counts\n",
    "if not os.path.exists(combined_path):\n",
    "    os.makedirs(combined_path)"
   ]
  },
  {
   "cell_type": "code",
   "execution_count": null,
   "metadata": {
    "collapsed": true
   },
   "outputs": [],
   "source": [
    "# Concatenate the pairs files together for the training corpus and the enrich corpus\n",
    "filenames = [pairs_path, enrich_pairs_path]\n",
    "with open(combined_pairs_path, 'w') as outfile:\n",
    "    for fname in filenames:\n",
    "        with open(fname) as infile:\n",
    "            for line in infile:\n",
    "                outfile.write(line)"
   ]
  },
  {
   "cell_type": "code",
   "execution_count": null,
   "metadata": {},
   "outputs": [],
   "source": [
    "# Produce counts from the combined pairs - then continue as per baseline process\n",
    "counts_path = create_counts(combined_path, combined_pairs_path)"
   ]
  },
  {
   "cell_type": "code",
   "execution_count": null,
   "metadata": {
    "collapsed": true
   },
   "outputs": [],
   "source": [
    "c2v.counts2vocab(counts_path)"
   ]
  },
  {
   "cell_type": "code",
   "execution_count": null,
   "metadata": {
    "collapsed": true
   },
   "outputs": [],
   "source": [
    "for idx in range(0, N):\n",
    "    print ('Starting sample: ' + str(idx))\n",
    "    sgns_path = make_sgns_dir(combined_path, sgns_dir, idx)\n",
    "    [sgns_contexts_path, sgns_words_path] = run_word2vecf(combined_path, sgns_path)\n",
    "    # python2 hyperwords/multi2mono.py ./${1}/sgns/words ./${1}/sgns\n",
    "    m2m.multi2mono(sgns_words_path, sgns_path)\n",
    "    vecs_to_numpy(sgns_path)"
   ]
  },
  {
   "cell_type": "code",
   "execution_count": null,
   "metadata": {
    "collapsed": true
   },
   "outputs": [],
   "source": []
  }
 ],
 "metadata": {
  "kernelspec": {
   "display_name": "Python 2",
   "language": "python",
   "name": "python2"
  },
  "language_info": {
   "codemirror_mode": {
    "name": "ipython",
    "version": 2
   },
   "file_extension": ".py",
   "mimetype": "text/x-python",
   "name": "python",
   "nbconvert_exporter": "python",
   "pygments_lexer": "ipython2",
   "version": "2.7.13"
  }
 },
 "nbformat": 4,
 "nbformat_minor": 2
}
